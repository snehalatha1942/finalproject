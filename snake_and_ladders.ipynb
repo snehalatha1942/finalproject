{
  "cells": [
    {
      "cell_type": "markdown",
      "metadata": {
        "id": "view-in-github",
        "colab_type": "text"
      },
      "source": [
        "<a href=\"https://colab.research.google.com/github/snehalatha1942/finalproject/blob/main/snake_and_ladders.ipynb\" target=\"_parent\"><img src=\"https://colab.research.google.com/assets/colab-badge.svg\" alt=\"Open In Colab\"/></a>"
      ]
    },
    {
      "cell_type": "code",
      "execution_count": 1,
      "metadata": {
        "colab": {
          "base_uri": "https://localhost:8080/"
        },
        "id": "RnjwEtsylCsv",
        "outputId": "8639451d-08df-4325-ecb4-5bdcebe2c103"
      },
      "outputs": [
        {
          "output_type": "stream",
          "name": "stdout",
          "text": [
            "Requirement already satisfied: pygame in /usr/local/lib/python3.10/dist-packages (2.5.2)\n"
          ]
        }
      ],
      "source": [
        "!pip install pygame"
      ]
    },
    {
      "cell_type": "code",
      "execution_count": null,
      "metadata": {
        "id": "k_SOItOMkBR0"
      },
      "outputs": [],
      "source": [
        "import random\n",
        "import sys\n",
        "\"\"\"A program which will simulate rolling of a die and moves of a pawn in snake and ladders.\n",
        "Max number of players allowed is 4 and with a min of 2.\n",
        "Enjoy the game.\n",
        "A simple Command-line snake-and-ladder game\"\"\"\n",
        "\n",
        "\n",
        "def Move(Player, value):\n",
        "    \"\"\"THIS FUNCTION MOVES THE PAWN AND ALSO CHECKS FOR\n",
        "    WINNING AND OVERFLOW\"\"\"\n",
        "    snake_squares = {16: 4, 22:10, 33: 20, 48: 24, 62: 56, 78: 69, 74: 60, 91: 42, 97: 6}\n",
        "    ladder_squares = {3: 12, 7: 23, 11:25, 21: 56, 47: 53, 60: 72, 80: 96}\n",
        "    Throw = random.randint(1, 6)\n",
        "    num = value + Throw\n",
        "    if num>100:\n",
        "        print(\"BAD LUCK, YOU CANT MOVE, YOU NEED A {} TO WIN\".format(100 - value))\n",
        "        return value\n",
        "    if num == 100:\n",
        "        return num\n",
        "    #IF NONE OF THE OTHER CONDITIONS ARE MATCHED,\n",
        "    print(Player, \"Rolled a\", Throw, \"And is now on\", num)\n",
        "    if num in snake_squares:\n",
        "        #if landed in a snake square\n",
        "        print(Player, \" got bitten by a snake and is now on square\", snake_squares[num])\n",
        "        num = snake_squares[num]\n",
        "    elif num in ladder_squares:\n",
        "        #if landed in a ladder square\n",
        "        print(Player, \" climbed a ladder and is now on square\", ladder_squares[num])\n",
        "        num = ladder_squares[num]\n",
        "\n",
        "    return num\n",
        "\n",
        "def playerscount():\n",
        "    \"\"\"ACCEPTS THE NUM OF PLAYERS\"\"\"\n",
        "    num_of_players = int(input(\"How many players are in the game?\"))\n",
        "    print()\n",
        "    if num_of_players > 4 or numofplayers < 2:\n",
        "        print(\"Must be less than 5 and greater than 1\")\n",
        "    else:\n",
        "        return num_of_players\n",
        "\n",
        "\n",
        "def nameofplayers(N):\n",
        "    \"\"\"ACCEPTS THE NAME OF PLAYERS AND REUTUNS THE LIST OF NAMES\"\"\"\n",
        "    Names = ['','','','']\n",
        "    for i in range(N):\n",
        "        Names[i] = input(\"What is the name of Player \"+str(i+1)+\" ?\")\n",
        "    return Names\n",
        "\n",
        "def turn(player,pos):\n",
        "    COMMANDSTATE = \"Press Enter to continue or press 'stop' to stop\"\n",
        "    WINSTATEMENT = \"WINS THE GAME! CONGRATULATIONS\"\n",
        "    COMMANDSTATE1 = str(\"Hey \"+player+\"! It's your turn now \"+COMMANDSTATE)\n",
        "    Command = input(COMMANDSTATE1)\n",
        "    if Command.lower() == 'stop':\n",
        "        #if the user commands to stop, the game must stop,\n",
        "        #so the GameOver flag will become true\n",
        "        return True, pos\n",
        "    pos = Move(player, pos)\n",
        "    if pos == 100:\n",
        "        print(player, WINSTATEMENT)\n",
        "        print(\"AT WINNING {} was at {}\".format(player, pos))\n",
        "        #if a player wins, the game is over\n",
        "        #so the GameOver flag will become true\n",
        "        return True, pos\n",
        "\n",
        "    #if the function has not returned anywhere above\n",
        "    #it means that the game is still on\n",
        "    return False, pos\n",
        "def main():\n",
        "    \"\"\"THE MAIN FUNCTION\"\"\"\n",
        "    numofplayers = playerscount()\n",
        "    playernames = nameofplayers(numofplayers)\n",
        "    print(playernames[0], playernames[1], playernames[2], playernames[3], \"- Welcome To Snakes And Ladders\")\n",
        "    COMMANDSTATE = \"Press Enter to continue or press 'stop' to stop: \"\n",
        "    WINSTATEMENT = \"WINS THE GAME! CONGRATULATIONS\"\n",
        "    Command = ''\n",
        "    TURNS = 0\n",
        "    PosArr=[1,1,1,1]\n",
        "    #A list containing the present positions of the pawns\n",
        "    GameOver = False\n",
        "    #Flag to check whether the game should be continued or not\n",
        "    while not GameOver:\n",
        "        while TURNS < numofplayers:\n",
        "            #This loops takes care of each person's moves.\n",
        "            #if TURNS == 1, it means that its person1's turn\n",
        "            TURNS += 1\n",
        "            GameOver, PosArr[TURNS - 1] = turn(playernames[TURNS - 1], PosArr[TURNS - 1])\n",
        "            if GameOver:\n",
        "                #if gameover, exit the function\n",
        "                return\n",
        "        TURNS = 0\n",
        "    return\n",
        "if __name__=='__main__':\n",
        "    main()\n"
      ]
    }
  ],
  "metadata": {
    "colab": {
      "provenance": [],
      "authorship_tag": "ABX9TyMnz/gtBal4pTRKxvNagfHr",
      "include_colab_link": true
    },
    "kernelspec": {
      "display_name": "Python 3",
      "name": "python3"
    },
    "language_info": {
      "name": "python"
    }
  },
  "nbformat": 4,
  "nbformat_minor": 0
}